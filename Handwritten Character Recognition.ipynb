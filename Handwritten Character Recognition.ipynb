{
  "nbformat": 4,
  "nbformat_minor": 0,
  "metadata": {
    "colab": {
      "provenance": []
    },
    "kernelspec": {
      "name": "python3",
      "display_name": "Python 3"
    },
    "language_info": {
      "name": "python"
    }
  },
  "cells": [
    {
      "cell_type": "code",
      "execution_count": 1,
      "metadata": {
        "id": "WcBkQdq8rbVd"
      },
      "outputs": [],
      "source": [
        "import torch\n",
        "import torch.nn as nn\n",
        "import torch.optim as optim\n",
        "import torchvision\n",
        "import torchvision.transforms as transforms\n",
        "from torch.utils.data import DataLoader"
      ]
    },
    {
      "cell_type": "code",
      "source": [
        "# Hyperparameters\n",
        "input_size = 784 # 28x28 images flattened\n",
        "hidden_size = 128\n",
        "num_classes = 10\n",
        "num_epochs = 5\n",
        "batch_size = 100\n",
        "learning_rate = 0.001\n",
        "# MNIST dataset\n",
        "transform = transforms.Compose([\n",
        "transforms.ToTensor(),\n",
        "transforms.Normalize((0.5,), (0.5,)) # Normalizing the dataset\n",
        "])"
      ],
      "metadata": {
        "id": "nlfGnEBCthWl"
      },
      "execution_count": 2,
      "outputs": []
    },
    {
      "cell_type": "code",
      "source": [
        "train_dataset = torchvision.datasets.MNIST(root='./data', train=True,\n",
        " transform=transform, download=True)\n",
        "test_dataset = torchvision.datasets.MNIST(root='./data', train=False,\n",
        " transform=transform, download=True)\n",
        "train_loader = DataLoader(dataset=train_dataset, batch_size=batch_size,\n",
        " shuffle=True)\n",
        "test_loader = DataLoader(dataset=test_dataset, batch_size=batch_size,\n",
        " shuffle=False)"
      ],
      "metadata": {
        "colab": {
          "base_uri": "https://localhost:8080/"
        },
        "id": "qsI-RQBcttWa",
        "outputId": "e9ef13b8-566a-4d24-87f9-2ddef9e7dbe0"
      },
      "execution_count": 5,
      "outputs": [
        {
          "output_type": "stream",
          "name": "stdout",
          "text": [
            "Downloading http://yann.lecun.com/exdb/mnist/train-images-idx3-ubyte.gz\n",
            "Failed to download (trying next):\n",
            "HTTP Error 404: Not Found\n",
            "\n",
            "Downloading https://ossci-datasets.s3.amazonaws.com/mnist/train-images-idx3-ubyte.gz\n",
            "Downloading https://ossci-datasets.s3.amazonaws.com/mnist/train-images-idx3-ubyte.gz to ./data/MNIST/raw/train-images-idx3-ubyte.gz\n"
          ]
        },
        {
          "output_type": "stream",
          "name": "stderr",
          "text": [
            "100%|██████████| 9.91M/9.91M [00:00<00:00, 51.3MB/s]\n"
          ]
        },
        {
          "output_type": "stream",
          "name": "stdout",
          "text": [
            "Extracting ./data/MNIST/raw/train-images-idx3-ubyte.gz to ./data/MNIST/raw\n",
            "\n",
            "Downloading http://yann.lecun.com/exdb/mnist/train-labels-idx1-ubyte.gz\n",
            "Failed to download (trying next):\n",
            "HTTP Error 404: Not Found\n",
            "\n",
            "Downloading https://ossci-datasets.s3.amazonaws.com/mnist/train-labels-idx1-ubyte.gz\n",
            "Downloading https://ossci-datasets.s3.amazonaws.com/mnist/train-labels-idx1-ubyte.gz to ./data/MNIST/raw/train-labels-idx1-ubyte.gz\n"
          ]
        },
        {
          "output_type": "stream",
          "name": "stderr",
          "text": [
            "100%|██████████| 28.9k/28.9k [00:00<00:00, 1.64MB/s]\n"
          ]
        },
        {
          "output_type": "stream",
          "name": "stdout",
          "text": [
            "Extracting ./data/MNIST/raw/train-labels-idx1-ubyte.gz to ./data/MNIST/raw\n",
            "\n",
            "Downloading http://yann.lecun.com/exdb/mnist/t10k-images-idx3-ubyte.gz\n",
            "Failed to download (trying next):\n",
            "HTTP Error 404: Not Found\n",
            "\n",
            "Downloading https://ossci-datasets.s3.amazonaws.com/mnist/t10k-images-idx3-ubyte.gz\n",
            "Downloading https://ossci-datasets.s3.amazonaws.com/mnist/t10k-images-idx3-ubyte.gz to ./data/MNIST/raw/t10k-images-idx3-ubyte.gz\n"
          ]
        },
        {
          "output_type": "stream",
          "name": "stderr",
          "text": [
            "100%|██████████| 1.65M/1.65M [00:00<00:00, 13.9MB/s]\n"
          ]
        },
        {
          "output_type": "stream",
          "name": "stdout",
          "text": [
            "Extracting ./data/MNIST/raw/t10k-images-idx3-ubyte.gz to ./data/MNIST/raw\n",
            "\n",
            "Downloading http://yann.lecun.com/exdb/mnist/t10k-labels-idx1-ubyte.gz\n",
            "Failed to download (trying next):\n",
            "HTTP Error 404: Not Found\n",
            "\n",
            "Downloading https://ossci-datasets.s3.amazonaws.com/mnist/t10k-labels-idx1-ubyte.gz\n",
            "Downloading https://ossci-datasets.s3.amazonaws.com/mnist/t10k-labels-idx1-ubyte.gz to ./data/MNIST/raw/t10k-labels-idx1-ubyte.gz\n"
          ]
        },
        {
          "output_type": "stream",
          "name": "stderr",
          "text": [
            "100%|██████████| 4.54k/4.54k [00:00<00:00, 4.79MB/s]"
          ]
        },
        {
          "output_type": "stream",
          "name": "stdout",
          "text": [
            "Extracting ./data/MNIST/raw/t10k-labels-idx1-ubyte.gz to ./data/MNIST/raw\n",
            "\n"
          ]
        },
        {
          "output_type": "stream",
          "name": "stderr",
          "text": [
            "\n"
          ]
        }
      ]
    },
    {
      "cell_type": "code",
      "source": [
        "# Multilayer Perceptron Model\n",
        "class MLP(nn.Module):\n",
        "  def __init__(self, input_size, hidden_size, num_classes):\n",
        "    super(MLP, self).__init__()\n",
        "    self.fc1 = nn.Linear(input_size, hidden_size)\n",
        "    self.relu = nn.ReLU()\n",
        "    self.fc2 = nn.Linear(hidden_size, num_classes)\n",
        "  def forward(self, x):\n",
        "    x = x.view(-1, input_size) # Flatten the image to a 1D vector\n",
        "    x = self.fc1(x)\n",
        "    x = self.relu(x)\n",
        "    x = self.fc2(x)\n",
        "    return x\n",
        "model = MLP(input_size, hidden_size, num_classes)\n",
        "print(model)"
      ],
      "metadata": {
        "colab": {
          "base_uri": "https://localhost:8080/"
        },
        "id": "y5nqD0lzt06T",
        "outputId": "4016594a-9e37-430e-ae33-f77c7ea4735f"
      },
      "execution_count": 6,
      "outputs": [
        {
          "output_type": "stream",
          "name": "stdout",
          "text": [
            "MLP(\n",
            "  (fc1): Linear(in_features=784, out_features=128, bias=True)\n",
            "  (relu): ReLU()\n",
            "  (fc2): Linear(in_features=128, out_features=10, bias=True)\n",
            ")\n"
          ]
        }
      ]
    },
    {
      "cell_type": "code",
      "source": [
        "# Loss and optimizer\n",
        "criterion = nn.CrossEntropyLoss()\n",
        "optimizer = optim.Adam(model.parameters(), lr=learning_rate)\n",
        " # Training the model\n",
        "for epoch in range(num_epochs):\n",
        "  for i, (images, labels) in enumerate(train_loader):\n",
        " # Forward pass\n",
        "   outputs = model(images)\n",
        "   loss = criterion(outputs, labels)\n",
        " # Backward pass and optimization\n",
        "   optimizer.zero_grad()\n",
        "   loss.backward()\n",
        "   optimizer.step()\n",
        "   if (i+1) % 100 == 0:\n",
        "    print(f'Epoch [{epoch+1}/{num_epochs}], Step [{i+1}/{len(train_loader)}], Loss: {loss.item():.4f}')"
      ],
      "metadata": {
        "colab": {
          "base_uri": "https://localhost:8080/"
        },
        "id": "uAY1stkRukC9",
        "outputId": "851fae6c-7c20-4aca-d0ca-a5d9693da8d2"
      },
      "execution_count": 9,
      "outputs": [
        {
          "output_type": "stream",
          "name": "stdout",
          "text": [
            "Epoch [1/5], Step [100/600], Loss: 0.4158\n",
            "Epoch [1/5], Step [200/600], Loss: 0.3530\n",
            "Epoch [1/5], Step [300/600], Loss: 0.3412\n",
            "Epoch [1/5], Step [400/600], Loss: 0.2194\n",
            "Epoch [1/5], Step [500/600], Loss: 0.3481\n",
            "Epoch [1/5], Step [600/600], Loss: 0.4607\n",
            "Epoch [2/5], Step [100/600], Loss: 0.2733\n",
            "Epoch [2/5], Step [200/600], Loss: 0.3612\n",
            "Epoch [2/5], Step [300/600], Loss: 0.1632\n",
            "Epoch [2/5], Step [400/600], Loss: 0.1891\n",
            "Epoch [2/5], Step [500/600], Loss: 0.2685\n",
            "Epoch [2/5], Step [600/600], Loss: 0.2039\n",
            "Epoch [3/5], Step [100/600], Loss: 0.1888\n",
            "Epoch [3/5], Step [200/600], Loss: 0.1794\n",
            "Epoch [3/5], Step [300/600], Loss: 0.1872\n",
            "Epoch [3/5], Step [400/600], Loss: 0.1619\n",
            "Epoch [3/5], Step [500/600], Loss: 0.1088\n",
            "Epoch [3/5], Step [600/600], Loss: 0.1016\n",
            "Epoch [4/5], Step [100/600], Loss: 0.0864\n",
            "Epoch [4/5], Step [200/600], Loss: 0.1889\n",
            "Epoch [4/5], Step [300/600], Loss: 0.1167\n",
            "Epoch [4/5], Step [400/600], Loss: 0.1215\n",
            "Epoch [4/5], Step [500/600], Loss: 0.1699\n",
            "Epoch [4/5], Step [600/600], Loss: 0.0200\n",
            "Epoch [5/5], Step [100/600], Loss: 0.0846\n",
            "Epoch [5/5], Step [200/600], Loss: 0.1265\n",
            "Epoch [5/5], Step [300/600], Loss: 0.0993\n",
            "Epoch [5/5], Step [400/600], Loss: 0.0674\n",
            "Epoch [5/5], Step [500/600], Loss: 0.1371\n",
            "Epoch [5/5], Step [600/600], Loss: 0.0556\n"
          ]
        }
      ]
    },
    {
      "cell_type": "code",
      "source": [
        "# Testing the model\n",
        "model.eval() # Set model to evaluation mode\n",
        "with torch.no_grad():\n",
        " correct = 0\n",
        " total = 0\n",
        " for images, labels in test_loader:\n",
        "  outputs = model(images)\n",
        "  _, predicted = torch.max(outputs.data, 1)\n",
        "  total += labels.size(0)\n",
        "  correct += (predicted == labels).sum().item()\n",
        " print(f'Accuracy of the model on the 10,000 test images: {100 * correct /total:.2f}%')\n",
        " # Saving the model\n",
        " torch.save(model.state_dict(), 'mlp_mnist.pth')"
      ],
      "metadata": {
        "colab": {
          "base_uri": "https://localhost:8080/"
        },
        "id": "AdGIsc_5u0on",
        "outputId": "a37fcec5-6b33-4a28-f046-94fa111313f8"
      },
      "execution_count": 10,
      "outputs": [
        {
          "output_type": "stream",
          "name": "stdout",
          "text": [
            "Accuracy of the model on the 10,000 test images: 96.26%\n"
          ]
        }
      ]
    },
    {
      "cell_type": "code",
      "source": [
        "import matplotlib.pyplot as plt\n",
        "import torchvision\n",
        " # Function to display a row of images with their predicted and true labels\n",
        "def show_images(images, labels, preds, title):\n",
        " fig, axes = plt.subplots(1, 10, figsize=(20, 2)) # Create a row of 10␣subplots\n",
        " for i in range(10):\n",
        "  axes[i].imshow(images[i].squeeze(), cmap='gray')\n",
        "  axes[i].set_title(f'True: {labels[i]}\\nPred: {preds[i]}')\n",
        "  axes[i].axis('off') # Hide axis\n",
        " fig.suptitle(title, fontsize=16)\n",
        " plt.show()\n",
        " # Set the model to evaluation mode\n",
        " model.eval()\n",
        " # Collecting correctly and incorrectly classified images\n",
        " correct_examples = []\n",
        " incorrect_examples = []\n",
        " with torch.no_grad():\n",
        "  for images, labels in test_loader:\n",
        "   outputs = model(images)\n",
        " _, predicted = torch.max(outputs.data, 1)\n",
        " for img, label, pred in zip(images, labels, predicted):\n",
        "  if label == pred and len(correct_examples) < 10:\n",
        "   correct_examples.append((img, label.item(), pred.item()))\n",
        "  elif label != pred and len(incorrect_examples) < 10:\n",
        "   incorrect_examples.append((img, label.item(), pred.item()))\n",
        " # Break if we have collected enough examples\n",
        "  if len(correct_examples) >= 10 and len(incorrect_examples) >= 10:\n",
        "     break\n",
        "  if len(correct_examples) >= 10 and len(incorrect_examples) >= 10:\n",
        "     break\n",
        "\n",
        "# Prepare data for visualization\n",
        " correct_images = [img for img, _, _ in correct_examples]\n",
        " correct_labels = [label for _, label, _ in correct_examples]\n",
        " correct_preds = [pred for _, _, pred in correct_examples]\n",
        " incorrect_images = [img for img, _, _ in incorrect_examples]\n",
        " incorrect_labels = [label for _, label, _ in incorrect_examples]\n",
        " incorrect_preds = [pred for _, _, pred in incorrect_examples]\n",
        " # Visualizing Correctly Classified Images\n",
        " print(\"Correctly Classified Examples:\")\n",
        " show_images(correct_images, correct_labels, correct_preds, title='')\n",
        " # Visualizing Incorrectly Classified Images\n",
        " print(\"Incorrectly Classified Examples:\")\n",
        " show_images(incorrect_images, incorrect_labels, incorrect_preds, title='')"
      ],
      "metadata": {
        "id": "9-GzLm6wvynx"
      },
      "execution_count": 11,
      "outputs": []
    },
    {
      "cell_type": "code",
      "source": [
        "import seaborn as sns\n",
        "from sklearn.metrics import confusion_matrix\n",
        "import numpy as np\n",
        "# Initialize the confusion matrix\n",
        "confusion_mat = np.zeros((num_classes, num_classes))\n",
        "# Set the model to evaluation mode\n",
        "model.eval()\n",
        "# Collect true labels and predictions\n",
        "all_labels = []\n",
        "all_preds = []\n",
        "with torch.no_grad():\n",
        " for images, labels in test_loader:\n",
        "  outputs = model(images)\n",
        " _, predicted = torch.max(outputs.data, 1)\n",
        " all_labels.extend(labels.cpu().numpy())\n",
        " all_preds.extend(predicted.cpu().numpy())\n",
        " # Calculate the confusion matrix\n",
        " confusion_mat = confusion_matrix(all_labels, all_preds)\n",
        " # Plotting the confusion matrix\n",
        " plt.figure(figsize=(10, 8))\n",
        " sns.heatmap(confusion_mat, annot=True, fmt='d', cmap='Blues',xticklabels=range(10), yticklabels=range(10))\n",
        " plt.xlabel('Predicted Labels')\n",
        " plt.ylabel('True Labels')\n",
        " plt.title('Confusion Matrix for MNIST Classification')\n",
        " plt.show()"
      ],
      "metadata": {
        "colab": {
          "base_uri": "https://localhost:8080/",
          "height": 718
        },
        "id": "x5CohhD-xAzu",
        "outputId": "ac1148fd-23e6-496b-f91b-1dc21a4585a7"
      },
      "execution_count": 12,
      "outputs": [
        {
          "output_type": "display_data",
          "data": {
            "text/plain": [
              "<Figure size 1000x800 with 2 Axes>"
            ],
            "image/png": "[encoded data removed]"
          },
          "metadata": {}
        }
      ]
    },
    {
      "cell_type": "code",
      "source": [],
      "metadata": {
        "id": "sShIdKpJxljc"
      },
      "execution_count": null,
      "outputs": []
    }
  ]
}